{
  "nbformat": 4,
  "nbformat_minor": 0,
  "metadata": {
    "colab": {
      "provenance": [],
      "machine_shape": "hm",
      "gpuType": "L4"
    },
    "kernelspec": {
      "name": "python3",
      "display_name": "Python 3"
    },
    "language_info": {
      "name": "python"
    },
    "accelerator": "GPU"
  },
  "cells": [
    {
      "cell_type": "code",
      "source": [
        "\n",
        "import pandas as pd\n",
        "from google.colab import drive\n",
        "import random as random\n",
        "import numpy as np\n",
        "from sklearn.preprocessing import LabelEncoder, StandardScaler"
      ],
      "metadata": {
        "id": "rMWUHM3VL1hk"
      },
      "execution_count": 2,
      "outputs": []
    },
    {
      "cell_type": "code",
      "source": [
        "from google.colab import drive\n",
        "drive.mount('/content/drive')\n"
      ],
      "metadata": {
        "colab": {
          "base_uri": "https://localhost:8080/"
        },
        "id": "m4CUt7zfMBty",
        "outputId": "be785463-a4e0-45e0-a7c3-d6a26800bd54"
      },
      "execution_count": 3,
      "outputs": [
        {
          "output_type": "stream",
          "name": "stdout",
          "text": [
            "Mounted at /content/drive\n"
          ]
        }
      ]
    },
    {
      "cell_type": "code",
      "source": [
        "# === PYTORCH DEEPFM-LIKE MODEL WITH SEPARATED CF AND CB CLASSES ===\n",
        "import torch\n",
        "import torch.nn as nn\n",
        "import torch.nn.functional as F\n",
        "from torch.utils.data import Dataset, DataLoader\n",
        "import numpy as np\n",
        "import pandas as pd\n",
        "\n",
        "# === LOAD DATA ===\n",
        "df = pd.read_csv(\"/content/drive/My Drive/deepfm_preprocessed_data.csv\")\n",
        "text_embeddings = np.load(\"/content/drive/My Drive/deepfm_text_embeddings.npy\")\n",
        "features_embeddings = np.load(\"/content/drive/My Drive/deepfm_features_embeddings.npy\")"
      ],
      "metadata": {
        "id": "rkAWbICHL3TX"
      },
      "execution_count": 4,
      "outputs": []
    },
    {
      "cell_type": "code",
      "source": [
        "df.columns"
      ],
      "metadata": {
        "colab": {
          "base_uri": "https://localhost:8080/"
        },
        "id": "coh2UgkxdsX3",
        "outputId": "9b08dddc-53cb-450a-8c9e-ee6bdf00fc3f"
      },
      "execution_count": 9,
      "outputs": [
        {
          "output_type": "execute_result",
          "data": {
            "text/plain": [
              "Index(['user_id_encoded', 'rating_scaled', 'parent_asin', 'product_title',\n",
              "       'features', 'price_scaled', 'Item Weight_scaled', 'length_scaled',\n",
              "       'width_scaled', 'height_scaled', 'Color_encoded', 'Material_encoded',\n",
              "       'Manufacturer_encoded', 'sentiment', 'helpful', 'u_idx', 'i_idx'],\n",
              "      dtype='object')"
            ]
          },
          "metadata": {},
          "execution_count": 9
        }
      ]
    },
    {
      "cell_type": "code",
      "source": [
        "# Define feature columns used in X_meta\n",
        "features = [\n",
        "    'rating', 'price_scaled', 'Item Weight_scaled',\n",
        "    'length_scaled', 'width_scaled', 'height_scaled',\n",
        "    'sentiment', 'Color_encoded', 'Material_encoded', 'Manufacturer_encoded'\n",
        "]\n",
        "\n",
        "# Encode user and item IDs\n",
        "df['u_idx'] = df['user_id_encoded'].astype(int)\n",
        "df['i_idx'] = df['parent_asin'].astype('category').cat.codes.astype(int)\n",
        "\n",
        "# Binary label: rating > 4\n",
        "y = (df['rating'] > 4).astype(int).values\n",
        "\n",
        "# Combine structured + text + feature embeddings\n",
        "X_meta = np.hstack([df[features].values, text_embeddings, features_embeddings])"
      ],
      "metadata": {
        "id": "ykdUM-vvMJ2n"
      },
      "execution_count": 10,
      "outputs": []
    },
    {
      "cell_type": "code",
      "source": [
        "# === CUSTOM DATASET ===\n",
        "class RecommenderDataset(Dataset):\n",
        "    def __init__(self, df, meta_features, labels):\n",
        "        self.u_idx = torch.tensor(df['u_idx'].values, dtype=torch.long)\n",
        "        self.i_idx = torch.tensor(df['i_idx'].values, dtype=torch.long)\n",
        "        self.meta = torch.tensor(meta_features, dtype=torch.float32)\n",
        "        self.labels = torch.tensor(labels, dtype=torch.float32)\n",
        "\n",
        "    def __len__(self):\n",
        "        return len(self.labels)\n",
        "\n",
        "    def __getitem__(self, idx):\n",
        "        return {\n",
        "            'u_idx': self.u_idx[idx],\n",
        "            'i_idx': self.i_idx[idx],\n",
        "            'meta': self.meta[idx]\n",
        "        }, self.labels[idx]\n",
        "\n",
        "# === COLLABORATIVE FILTERING MODULE ===\n",
        "class CollaborativeTower(nn.Module):\n",
        "    def __init__(self, n_users, n_items, emb_dim):\n",
        "        super().__init__()\n",
        "        self.user_emb = nn.Embedding(n_users, emb_dim)\n",
        "        self.item_emb = nn.Embedding(n_items, emb_dim)\n",
        "        self.user_bias = nn.Embedding(n_users, 1)\n",
        "        self.item_bias = nn.Embedding(n_items, 1)\n",
        "\n",
        "    def forward(self, u_idx, i_idx):\n",
        "        user_vec = self.user_emb(u_idx)\n",
        "        item_vec = self.item_emb(i_idx)\n",
        "        user_bias = self.user_bias(u_idx).squeeze()\n",
        "        item_bias = self.item_bias(i_idx).squeeze()\n",
        "\n",
        "        fm1 = (user_bias + item_bias).unsqueeze(1)\n",
        "        fm2 = 0.5 * (torch.pow(user_vec + item_vec, 2) - torch.pow(user_vec, 2) - torch.pow(item_vec, 2))\n",
        "        return fm1, fm2"
      ],
      "metadata": {
        "id": "u5RaekYHMQYU"
      },
      "execution_count": 11,
      "outputs": []
    },
    {
      "cell_type": "code",
      "source": [
        "# === CONTENT-BASED MODULE ===\n",
        "class ContentTower(nn.Module):\n",
        "    def __init__(self, meta_dim, hidden_dim=64):\n",
        "        super().__init__()\n",
        "        self.fc = nn.Sequential(\n",
        "            nn.Linear(meta_dim, hidden_dim),\n",
        "            nn.BatchNorm1d(hidden_dim),\n",
        "            nn.ReLU(),\n",
        "            nn.Dropout(0.2)\n",
        "        )\n",
        "\n",
        "    def forward(self, meta):\n",
        "        return self.fc(meta)\n",
        "\n",
        "# === FINAL DEEPFM MODEL ===\n",
        "class DeepFM(nn.Module):\n",
        "    def __init__(self, n_users, n_items, emb_dim, meta_dim, hidden_dim=64):\n",
        "        super().__init__()\n",
        "        self.cf = CollaborativeTower(n_users, n_items, emb_dim)\n",
        "        self.cb = ContentTower(meta_dim, hidden_dim)\n",
        "        self.output = nn.Linear(1 + emb_dim + hidden_dim, 1)\n",
        "\n",
        "    def forward(self, inputs):\n",
        "        fm1, fm2 = self.cf(inputs['u_idx'], inputs['i_idx'])\n",
        "        cb_out = self.cb(inputs['meta'])\n",
        "        x = torch.cat([fm1, fm2, cb_out], dim=1)\n",
        "        return torch.sigmoid(self.output(x)).squeeze()\n",
        "\n",
        "\n",
        "# === TRAINING FUNCTION ===\n",
        "def train_model(model, train_loader, val_loader, epochs, criterion, optimizer, device):\n",
        "    best_auc = 0.0\n",
        "    best_state = None\n",
        "\n",
        "    for epoch in range(epochs):\n",
        "        model.train()\n",
        "        total_loss = 0\n",
        "        for batch_x, y in train_loader:\n",
        "            for key in batch_x:\n",
        "                batch_x[key] = batch_x[key].to(device)\n",
        "            y = y.to(device)\n",
        "\n",
        "            optimizer.zero_grad()\n",
        "            preds = model(batch_x)\n",
        "            loss = criterion(preds, y)\n",
        "            loss.backward()\n",
        "            optimizer.step()\n",
        "            total_loss += loss.item()\n",
        "\n",
        "        model.eval()\n",
        "        y_true, y_pred = [], []\n",
        "        with torch.no_grad():\n",
        "            for batch_x, y in val_loader:\n",
        "                for key in batch_x:\n",
        "                    batch_x[key] = batch_x[key].to(device)\n",
        "                preds = model(batch_x)\n",
        "                y_true.extend(y.numpy())\n",
        "                y_pred.extend(preds.cpu().numpy())\n",
        "\n",
        "        from sklearn.metrics import roc_auc_score\n",
        "        auc = roc_auc_score(y_true, y_pred)\n",
        "        print(f\"Epoch {epoch+1} | Train Loss: {total_loss/len(train_loader):.4f} | Val AUC: {auc:.4f}\")\n",
        "\n",
        "        if auc > best_auc:\n",
        "            best_auc = auc\n",
        "            best_state = model.state_dict()\n",
        "\n",
        "    if best_state:\n",
        "        model.load_state_dict(best_state)\n",
        "        print(\"Best model restored with AUC:\", best_auc)\n",
        "    return model\n",
        "\n",
        "# === USAGE ===\n",
        "from sklearn.model_selection import train_test_split\n",
        "\n",
        "df_train, df_temp, y_train, y_temp, X_train_meta, X_temp_meta = train_test_split(df, y, X_meta, test_size=0.2, random_state=42)\n",
        "df_val, df_test, y_val, y_test, X_val_meta, X_test_meta = train_test_split(df_temp, y_temp, X_temp_meta, test_size=0.5, random_state=42)\n",
        "\n",
        "train_data = RecommenderDataset(df_train, X_train_meta, y_train)\n",
        "val_data = RecommenderDataset(df_val, X_val_meta, y_val)\n",
        "test_data = RecommenderDataset(df_test, X_test_meta, y_test)\n",
        "\n",
        "train_loader = DataLoader(train_data, batch_size=512, shuffle=True)\n",
        "val_loader = DataLoader(val_data, batch_size=512)\n",
        "test_loader = DataLoader(test_data, batch_size=512)\n",
        "\n",
        "# Initialize model\n",
        "model = DeepFM(n_users=df['u_idx'].max()+2, n_items=df['i_idx'].max()+2, emb_dim=16, meta_dim=X_meta.shape[1])\n",
        "device = torch.device(\"cuda\" if torch.cuda.is_available() else \"cpu\")\n",
        "model.to(device)\n",
        "\n",
        "# Loss and optimizer\n",
        "criterion = nn.BCELoss()\n",
        "optimizer = torch.optim.Adam(model.parameters(), lr=1e-3)\n",
        "\n",
        "# Train\n",
        "model = train_model(model, train_loader, val_loader, epochs=10, criterion=criterion, optimizer=optimizer, device=device)\n",
        "\n",
        "# Evaluate\n",
        "model.eval()\n",
        "y_true, y_pred = [], []\n",
        "with torch.no_grad():\n",
        "    for batch_x, y in test_loader:\n",
        "        for key in batch_x:\n",
        "            batch_x[key] = batch_x[key].to(device)\n",
        "        preds = model(batch_x)\n",
        "        y_true.extend(y.numpy())\n",
        "        y_pred.extend(preds.cpu().numpy())\n",
        "\n",
        "from sklearn.metrics import roc_auc_score, classification_report\n",
        "auc = roc_auc_score(y_true, y_pred)\n",
        "print(f\"Test AUC: {auc:.4f}\")"
      ],
      "metadata": {
        "colab": {
          "base_uri": "https://localhost:8080/"
        },
        "id": "dRgKVY1BMUKE",
        "outputId": "fe92018a-16df-4466-cd84-d905cf6d4062"
      },
      "execution_count": 28,
      "outputs": [
        {
          "output_type": "stream",
          "name": "stdout",
          "text": [
            "Epoch 1 | Train Loss: 0.6374 | Val AUC: 0.5113\n",
            "Epoch 2 | Train Loss: 0.6034 | Val AUC: 0.5695\n",
            "Epoch 3 | Train Loss: 0.5758 | Val AUC: 0.6351\n",
            "Epoch 4 | Train Loss: 0.4999 | Val AUC: 0.8412\n",
            "Epoch 5 | Train Loss: 0.4035 | Val AUC: 0.8803\n",
            "Epoch 6 | Train Loss: 0.3549 | Val AUC: 0.8224\n",
            "Epoch 7 | Train Loss: 0.3072 | Val AUC: 0.8068\n",
            "Epoch 8 | Train Loss: 0.2824 | Val AUC: 0.9578\n",
            "Epoch 9 | Train Loss: 0.2189 | Val AUC: 0.8903\n",
            "Epoch 10 | Train Loss: 0.1934 | Val AUC: 0.8453\n",
            "Best model restored with AUC: 0.9578443629907057\n",
            "Test AUC: 0.8423\n"
          ]
        }
      ]
    },
    {
      "cell_type": "code",
      "source": [],
      "metadata": {
        "id": "MnjN6Gftd0RN"
      },
      "execution_count": null,
      "outputs": []
    },
    {
      "cell_type": "code",
      "source": [],
      "metadata": {
        "id": "tP1bSffod0T0"
      },
      "execution_count": null,
      "outputs": []
    }
  ]
}